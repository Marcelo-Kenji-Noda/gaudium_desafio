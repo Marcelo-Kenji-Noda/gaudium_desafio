{
 "cells": [
  {
   "cell_type": "code",
   "execution_count": 12,
   "id": "9312bcd3",
   "metadata": {},
   "outputs": [],
   "source": [
    "from datetime import date\n",
    "\n",
    "from pyspark.sql import SparkSession\n",
    "from pyspark.sql.functions import hash, min, max, day, year, dayofweek, month, count_distinct"
   ]
  },
  {
   "cell_type": "code",
   "execution_count": 2,
   "id": "58424b65",
   "metadata": {},
   "outputs": [],
   "source": [
    "spark = SparkSession.builder.appName(\"Desafio Gaudium\").getOrCreate()"
   ]
  },
  {
   "cell_type": "code",
   "execution_count": null,
   "id": "0384faf4",
   "metadata": {},
   "outputs": [],
   "source": [
    "## Lendo os dados\n",
    "clientes = spark.read.csv('../data/processed/clientes/clientes.csv', header=True, inferSchema=True)\n",
    "datas = spark.read.csv('../data/processed/datas/datas.csv', header=True, inferSchema=True)\n",
    "produtos = spark.read.csv('../data/processed/produtos/produtos.csv', header=True, inferSchema=True)\n",
    "fato = spark.read.csv('../data/processed/vendas_fato/vendas_fato.csv', header=True, inferSchema=True)"
   ]
  },
  {
   "cell_type": "markdown",
   "id": "3c000596",
   "metadata": {},
   "source": [
    "## Validando se a tabela fato criada contém correspondência com a tabela dimensão"
   ]
  },
  {
   "cell_type": "markdown",
   "id": "28ad845c",
   "metadata": {},
   "source": [
    "Definição do anti join do Pyspark:\n",
    "\n",
    "> An anti join returns values from the left relation that has no match with the right. It is also referred to as a left anti join.\n",
    "\n",
    "Será utilizado para verificar se todos os ids utilizados na fato estão presentes nas tabelas de dimensão respectivas"
   ]
  },
  {
   "cell_type": "code",
   "execution_count": 10,
   "id": "c72a580d",
   "metadata": {},
   "outputs": [
    {
     "name": "stdout",
     "output_type": "stream",
     "text": [
      "Ids de clientes na fato sem correspondência na dimensão cliente:  0\n",
      "Ids de datas na fato sem correspondência na dimensão data:  0\n",
      "Ids de produto na fato sem correspondência na dimensão produtos:  0\n"
     ]
    }
   ],
   "source": [
    "# Verificar o número de linhas em cada dataframe (Expectativa é que todos os valores sejam 0)\n",
    "\n",
    "print(\"Ids de clientes na fato sem correspondência na dimensão cliente: \",fato.join(clientes, \"id_cliente\", \"left_anti\").count())\n",
    "print(\"Ids de datas na fato sem correspondência na dimensão data: \",fato.join(datas, \"data\", \"left_anti\").count())\n",
    "print(\"Ids de produto na fato sem correspondência na dimensão produtos: \",fato.join(produtos, \"id_produto\", \"left_anti\").count())"
   ]
  },
  {
   "cell_type": "markdown",
   "id": "08407a1d",
   "metadata": {},
   "source": [
    "## Verificando duplicidade nos ids "
   ]
  },
  {
   "cell_type": "code",
   "execution_count": 18,
   "id": "4a3b9018",
   "metadata": {},
   "outputs": [
    {
     "name": "stdout",
     "output_type": "stream",
     "text": [
      "Contagens de id_cliente distintos == Contagem de linhas da tabela:  True\n",
      "Contagens de data distintas == Contagem de linhas da tabela:   True\n",
      "Contagens de id_produto distintos == Contagem de linhas da tabela:  True\n"
     ]
    }
   ],
   "source": [
    "# Verificar se os ids são únicos (Expectativa é que todos os valores impressos sejam true)\n",
    "\n",
    "print(f\"Contagens de id_cliente distintos == Contagem de linhas da tabela:  {clientes.count() == clientes.select('id_cliente').distinct().count()}\")\n",
    "print(f\"Contagens de data distintas == Contagem de linhas da tabela:   {datas.count() == datas.select('data').distinct().count()}\")\n",
    "print(f\"Contagens de id_produto distintos == Contagem de linhas da tabela:  {produtos.count() == produtos.select('id_produto').distinct().count()}\")"
   ]
  }
 ],
 "metadata": {
  "kernelspec": {
   "display_name": "venv",
   "language": "python",
   "name": "python3"
  },
  "language_info": {
   "codemirror_mode": {
    "name": "ipython",
    "version": 3
   },
   "file_extension": ".py",
   "mimetype": "text/x-python",
   "name": "python",
   "nbconvert_exporter": "python",
   "pygments_lexer": "ipython3",
   "version": "3.12.10"
  }
 },
 "nbformat": 4,
 "nbformat_minor": 5
}
