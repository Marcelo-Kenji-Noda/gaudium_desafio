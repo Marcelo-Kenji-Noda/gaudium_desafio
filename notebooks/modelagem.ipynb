{
 "cells": [
  {
   "cell_type": "code",
   "execution_count": 20,
   "id": "afd4d168",
   "metadata": {},
   "outputs": [],
   "source": [
    "from datetime import date\n",
    "\n",
    "from pyspark.sql import SparkSession\n",
    "from pyspark.sql.functions import hash, min, max, day, year, dayofweek, month"
   ]
  },
  {
   "cell_type": "markdown",
   "id": "228d1418",
   "metadata": {},
   "source": [
    "# Modelagem dos dados\n",
    "\n",
    "Simulando uma estrutura no qual no qual os dados brutos (fonte de dados) estão em ``data/raw`` e os dados tratados são salvos em ``data/processed``, que pode ser um cloud storage, por exemplo.\n",
    "\n",
    "```\n",
    "data\n",
    "├───processed\n",
    "│   └── cliente\n",
    "│       ├── clientes_YYYYmmmdd.csv\n",
    "│       └── clientes.csv\n",
    "│   └── datas\n",
    "│       ├── datas_YYYYmmmdd.csv\n",
    "│       └── datas.csv\n",
    "│   └── produtos\n",
    "│       ├── produtos_YYYYmmmdd.csv\n",
    "│       └── produtos.csv\n",
    "│   └── vendas_fato.csv\n",
    "│       ├── vendas_fato_YYYYmmmdd.csv\n",
    "│       └── vendas_fato.csv\n",
    "└───raw\n",
    "    └─── Dados brutos.csv\n",
    "```\n",
    "\n",
    "## Etapas do notebook\n",
    "\n",
    "1. Configurações iniciais para execução do notebook e leitura dos dados\n",
    "2. Construção das tabelas de dimensão\n",
    "    - Clientes\n",
    "    - Produtos\n",
    "    - Datas\n",
    "3. Construção da tabela fato\n"
   ]
  },
  {
   "cell_type": "markdown",
   "id": "e7dda237",
   "metadata": {},
   "source": [
    "## 1. Preparação dos dados\n",
    "\n",
    "Lendo o DataFrame com dados brutos"
   ]
  },
  {
   "cell_type": "code",
   "execution_count": 2,
   "id": "001ae978",
   "metadata": {},
   "outputs": [],
   "source": [
    "today = date.today()"
   ]
  },
  {
   "cell_type": "code",
   "execution_count": 3,
   "id": "2f555762",
   "metadata": {},
   "outputs": [],
   "source": [
    "spark = SparkSession.builder.appName(\"Desafio Gaudium\").getOrCreate()"
   ]
  },
  {
   "cell_type": "code",
   "execution_count": 4,
   "id": "03725fb9",
   "metadata": {},
   "outputs": [],
   "source": [
    "df = spark.read.csv('../data/raw/Dados brutos.csv', header=True, inferSchema=True)"
   ]
  },
  {
   "cell_type": "code",
   "execution_count": 5,
   "id": "eb04a6ea",
   "metadata": {},
   "outputs": [
    {
     "name": "stdout",
     "output_type": "stream",
     "text": [
      "root\n",
      " |-- nome_cliente: string (nullable = true)\n",
      " |-- cidade: string (nullable = true)\n",
      " |-- estado: string (nullable = true)\n",
      " |-- nome_produto: string (nullable = true)\n",
      " |-- categoria: string (nullable = true)\n",
      " |-- fabricante: string (nullable = true)\n",
      " |-- data: date (nullable = true)\n",
      " |-- qtd_vendida: integer (nullable = true)\n",
      " |-- valor_total: integer (nullable = true)\n",
      "\n"
     ]
    }
   ],
   "source": [
    "df.printSchema()"
   ]
  },
  {
   "cell_type": "code",
   "execution_count": 6,
   "id": "a15eae07",
   "metadata": {},
   "outputs": [
    {
     "name": "stdout",
     "output_type": "stream",
     "text": [
      "+-------------+--------------+------+------------+---------+----------+----------+-----------+-----------+\n",
      "| nome_cliente|        cidade|estado|nome_produto|categoria|fabricante|      data|qtd_vendida|valor_total|\n",
      "+-------------+--------------+------+------------+---------+----------+----------+-----------+-----------+\n",
      "|Lucas Pereira|  Porto Alegre|    RS|  Detergente|  Limpeza|       Ypê|2024-01-26|          6|         90|\n",
      "|Lucas Pereira|  Porto Alegre|    RS|      Feijão| Alimento|   Kicaldo|2024-01-14|         10|        240|\n",
      "| Ana Oliveira|Rio de Janeiro|    RJ|Refrigerante|   Bebida| Coca-Cola|2024-01-15|          3|        150|\n",
      "| Pedro Santos|      Curitiba|    PR|      Feijão| Alimento|   Kicaldo|2024-01-28|          4|        152|\n",
      "| Pedro Santos|      Curitiba|    PR|       Arroz| Alimento|     Camil|2024-01-24|          3|         87|\n",
      "+-------------+--------------+------+------------+---------+----------+----------+-----------+-----------+\n",
      "only showing top 5 rows\n",
      "\n"
     ]
    }
   ],
   "source": [
    "df.show(5)"
   ]
  },
  {
   "cell_type": "markdown",
   "id": "50263619",
   "metadata": {},
   "source": [
    "## 2. Construção das tabelas de dimensões"
   ]
  },
  {
   "cell_type": "markdown",
   "id": "d1cc303e",
   "metadata": {},
   "source": [
    "### Dimensão cliente"
   ]
  },
  {
   "cell_type": "code",
   "execution_count": 7,
   "id": "23bb107e",
   "metadata": {},
   "outputs": [],
   "source": [
    "clientes_df = (\n",
    "    df.select([\"nome_cliente\",\"cidade\",\"estado\"])\n",
    "    .drop_duplicates(subset=[\"nome_cliente\",\"cidade\",\"estado\"])\n",
    "    .withColumn(\"id_cliente\", hash(\"nome_cliente\",\"cidade\",\"estado\"))\n",
    ")"
   ]
  },
  {
   "cell_type": "code",
   "execution_count": 8,
   "id": "717c6ecf",
   "metadata": {},
   "outputs": [
    {
     "name": "stdout",
     "output_type": "stream",
     "text": [
      "+-------------+--------------+------+-----------+\n",
      "| nome_cliente|        cidade|estado| id_cliente|\n",
      "+-------------+--------------+------+-----------+\n",
      "| Pedro Santos|      Curitiba|    PR| -192200573|\n",
      "|   João Silva|     São Paulo|    SP| -864470709|\n",
      "|Lucas Pereira|  Porto Alegre|    RS| 1375153528|\n",
      "| Ana Oliveira|Rio de Janeiro|    RJ|  865087950|\n",
      "|  Maria Souza|Belo Horizonte|    MG|-1678988022|\n",
      "+-------------+--------------+------+-----------+\n",
      "\n"
     ]
    }
   ],
   "source": [
    "clientes_df.show(5)"
   ]
  },
  {
   "cell_type": "code",
   "execution_count": 9,
   "id": "fb682f00",
   "metadata": {},
   "outputs": [],
   "source": [
    "clientes_pd_df = clientes_df.toPandas()\n",
    "\n",
    "clientes_pd_df.to_csv(f\"../data/processed/clientes/clientes_{today.strftime(\"%Y%m%d\")}.csv\", index=False)\n",
    "clientes_pd_df.to_csv(\"../data/processed/clientes/clientes.csv\", index=False)"
   ]
  },
  {
   "cell_type": "markdown",
   "id": "9df2957d",
   "metadata": {},
   "source": [
    "### Dimensão produtos\n",
    "\n",
    "Premissa para geração de tabelas:\n",
    "- O nome de produto e fabricante são suficientes para determinar um produto único. Ou seja, não espera que exista um produto Detergente da Ypê com categoria Limpeza e outra com categoria Alimento/Bebida"
   ]
  },
  {
   "cell_type": "code",
   "execution_count": 11,
   "id": "d5f92049",
   "metadata": {},
   "outputs": [],
   "source": [
    "produtos_df = (\n",
    "    df.select([\"nome_produto\",\"categoria\",\"fabricante\"])\n",
    "    .drop_duplicates(subset=[\"nome_produto\",\"fabricante\"])\n",
    "    .withColumn(\"id_produto\", hash(\"nome_produto\", \"fabricante\"))\n",
    ")"
   ]
  },
  {
   "cell_type": "code",
   "execution_count": 12,
   "id": "7fee2c12",
   "metadata": {},
   "outputs": [
    {
     "name": "stdout",
     "output_type": "stream",
     "text": [
      "+------------+---------+----------+-----------+\n",
      "|nome_produto|categoria|fabricante| id_produto|\n",
      "+------------+---------+----------+-----------+\n",
      "|       Arroz| Alimento|     Camil|-1114310623|\n",
      "|  Detergente|  Limpeza|       Ypê|  711337539|\n",
      "|      Feijão| Alimento|   Kicaldo| -585386349|\n",
      "|Refrigerante|   Bebida| Coca-Cola|  665068878|\n",
      "| Sabão em pó|  Limpeza|       OMO|-2084300233|\n",
      "+------------+---------+----------+-----------+\n",
      "\n"
     ]
    }
   ],
   "source": [
    "produtos_df.show()"
   ]
  },
  {
   "cell_type": "code",
   "execution_count": 13,
   "id": "ea92ebe0",
   "metadata": {},
   "outputs": [],
   "source": [
    "produtos_pd_df = produtos_df.toPandas()\n",
    "\n",
    "produtos_pd_df.to_csv(f\"../data/processed/produtos/produtos_{today.strftime(\"%Y%m%d\")}.csv\", index=False)\n",
    "produtos_pd_df.to_csv(\"../data/processed/produtos/produtos.csv\", index=False)"
   ]
  },
  {
   "cell_type": "markdown",
   "id": "420229fb",
   "metadata": {},
   "source": [
    "### Dimensão de data"
   ]
  },
  {
   "cell_type": "code",
   "execution_count": null,
   "id": "f411aec1",
   "metadata": {},
   "outputs": [],
   "source": [
    "ini_date = df.select(min(\"data\")).collect()[0][0]\n",
    "end_date = df.select(max(\"data\")).collect()[0][0]\n",
    "\n",
    "data_df = spark.sql(\n",
    "    f\"\"\"\n",
    "    SELECT explode(sequence(to_date('{ini_date.strftime(\"%Y-%m-%d\")}'), to_date('{end_date.strftime(\"%Y-%m-%d\")}'), interval 1 day)) as data\n",
    "    \"\"\"\n",
    ")\n",
    "\n",
    "data_df = (\n",
    "    data_df.withColumn(\"dia\", day('data'))\n",
    "        .withColumn(\"mes\", month('data'),)\n",
    "        .withColumn('ano', year('data'))\n",
    "        .withColumn('dia_da_semana',dayofweek('data')) \n",
    ")"
   ]
  },
  {
   "cell_type": "code",
   "execution_count": 22,
   "id": "09f3ca8d",
   "metadata": {},
   "outputs": [
    {
     "name": "stdout",
     "output_type": "stream",
     "text": [
      "root\n",
      " |-- data: date (nullable = false)\n",
      " |-- dia: integer (nullable = false)\n",
      " |-- mes: integer (nullable = false)\n",
      " |-- year: integer (nullable = false)\n",
      " |-- dayofweek: integer (nullable = false)\n",
      "\n"
     ]
    }
   ],
   "source": [
    "data_df.printSchema()"
   ]
  },
  {
   "cell_type": "code",
   "execution_count": 15,
   "id": "ea3b7cf6",
   "metadata": {},
   "outputs": [],
   "source": [
    "data_pd_df = data_df.toPandas()\n",
    "\n",
    "data_pd_df.to_csv(f\"../data/processed/datas/datas_{today.strftime(\"%Y%m%d\")}.csv\", index=False)\n",
    "data_pd_df.to_csv(\"../data/processed/datas/datas.csv\", index=False)"
   ]
  },
  {
   "cell_type": "markdown",
   "id": "06ba6b54",
   "metadata": {},
   "source": [
    "## 3. Construção a tabela vendas fato"
   ]
  },
  {
   "cell_type": "code",
   "execution_count": 16,
   "id": "46d4730a",
   "metadata": {},
   "outputs": [
    {
     "name": "stdout",
     "output_type": "stream",
     "text": [
      "+-------------+--------------+------+------------+---------+----------+----------+-----------+-----------+\n",
      "| nome_cliente|        cidade|estado|nome_produto|categoria|fabricante|      data|qtd_vendida|valor_total|\n",
      "+-------------+--------------+------+------------+---------+----------+----------+-----------+-----------+\n",
      "|Lucas Pereira|  Porto Alegre|    RS|  Detergente|  Limpeza|       Ypê|2024-01-26|          6|         90|\n",
      "|Lucas Pereira|  Porto Alegre|    RS|      Feijão| Alimento|   Kicaldo|2024-01-14|         10|        240|\n",
      "| Ana Oliveira|Rio de Janeiro|    RJ|Refrigerante|   Bebida| Coca-Cola|2024-01-15|          3|        150|\n",
      "| Pedro Santos|      Curitiba|    PR|      Feijão| Alimento|   Kicaldo|2024-01-28|          4|        152|\n",
      "| Pedro Santos|      Curitiba|    PR|       Arroz| Alimento|     Camil|2024-01-24|          3|         87|\n",
      "+-------------+--------------+------+------------+---------+----------+----------+-----------+-----------+\n",
      "only showing top 5 rows\n",
      "\n"
     ]
    }
   ],
   "source": [
    "df.show(5)"
   ]
  },
  {
   "cell_type": "code",
   "execution_count": 17,
   "id": "f8b8ed5c",
   "metadata": {},
   "outputs": [],
   "source": [
    "vendas_fato = (\n",
    "    df.withColumn(\"id_cliente\", hash(\"nome_cliente\",\"cidade\",\"estado\"))\n",
    "        .withColumn(\"id_produto\", hash(\"nome_produto\", \"fabricante\"))\n",
    "        .select([\"data\",\"id_cliente\",\"id_produto\",\"qtd_vendida\",\"valor_total\"])\n",
    "    )"
   ]
  },
  {
   "cell_type": "code",
   "execution_count": 18,
   "id": "e0ee3062",
   "metadata": {},
   "outputs": [
    {
     "name": "stdout",
     "output_type": "stream",
     "text": [
      "+----------+----------+-----------+-----------+-----------+\n",
      "|      data|id_cliente| id_produto|qtd_vendida|valor_total|\n",
      "+----------+----------+-----------+-----------+-----------+\n",
      "|2024-01-26|1375153528|  711337539|          6|         90|\n",
      "|2024-01-14|1375153528| -585386349|         10|        240|\n",
      "|2024-01-15| 865087950|  665068878|          3|        150|\n",
      "|2024-01-28|-192200573| -585386349|          4|        152|\n",
      "|2024-01-24|-192200573|-1114310623|          3|         87|\n",
      "+----------+----------+-----------+-----------+-----------+\n",
      "only showing top 5 rows\n",
      "\n"
     ]
    }
   ],
   "source": [
    "vendas_fato.show(5)"
   ]
  },
  {
   "cell_type": "code",
   "execution_count": 19,
   "id": "27032f15",
   "metadata": {},
   "outputs": [],
   "source": [
    "vendas_fato_pd_df = vendas_fato.toPandas()\n",
    "\n",
    "vendas_fato_pd_df.to_csv(f\"../data/processed/vendas_fato/vendas_fato_{today.strftime(\"%Y%m%d\")}.csv\", index=False)\n",
    "vendas_fato_pd_df.to_csv(\"../data/processed/vendas_fato/vendas_fato.csv\", index=False)"
   ]
  }
 ],
 "metadata": {
  "kernelspec": {
   "display_name": "venv",
   "language": "python",
   "name": "python3"
  },
  "language_info": {
   "codemirror_mode": {
    "name": "ipython",
    "version": 3
   },
   "file_extension": ".py",
   "mimetype": "text/x-python",
   "name": "python",
   "nbconvert_exporter": "python",
   "pygments_lexer": "ipython3",
   "version": "3.12.10"
  }
 },
 "nbformat": 4,
 "nbformat_minor": 5
}
